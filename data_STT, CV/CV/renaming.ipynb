{
 "cells": [
  {
   "cell_type": "code",
   "execution_count": 1,
   "id": "5bd96a65",
   "metadata": {
    "execution": {
     "iopub.execute_input": "2023-09-17T13:44:30.113843Z",
     "iopub.status.busy": "2023-09-17T13:44:30.113613Z",
     "iopub.status.idle": "2023-09-17T13:44:30.246600Z",
     "shell.execute_reply": "2023-09-17T13:44:30.246315Z",
     "shell.execute_reply.started": "2023-09-17T13:44:30.113828Z"
    },
    "tags": []
   },
   "outputs": [],
   "source": [
    "import os\n",
    "import glob\n",
    "import numpy as np\n",
    "from random import shuffle\n",
    "import telegram\n",
    "from tqdm.notebook import tqdm\n",
    "from Tgram import Tgram"
   ]
  },
  {
   "cell_type": "code",
   "execution_count": 2,
   "id": "65eb5de0-15a9-4a81-b878-4fde833173b0",
   "metadata": {
    "execution": {
     "iopub.execute_input": "2023-09-17T13:44:32.038854Z",
     "iopub.status.busy": "2023-09-17T13:44:32.038676Z",
     "iopub.status.idle": "2023-09-17T13:44:32.063127Z",
     "shell.execute_reply": "2023-09-17T13:44:32.062798Z",
     "shell.execute_reply.started": "2023-09-17T13:44:32.038841Z"
    },
    "tags": []
   },
   "outputs": [],
   "source": [
    "tgram = Tgram()"
   ]
  },
  {
   "cell_type": "code",
   "execution_count": 3,
   "id": "1e847aaf",
   "metadata": {
    "execution": {
     "iopub.execute_input": "2023-09-17T13:44:32.578931Z",
     "iopub.status.busy": "2023-09-17T13:44:32.578790Z",
     "iopub.status.idle": "2023-09-17T13:44:32.581041Z",
     "shell.execute_reply": "2023-09-17T13:44:32.580788Z",
     "shell.execute_reply.started": "2023-09-17T13:44:32.578918Z"
    },
    "tags": []
   },
   "outputs": [],
   "source": [
    "def random_name():\n",
    "    rand_int = list(map(str,np.random.randint(low=0, high=9, size=7)))\n",
    "    lst = list(map(chr, np.random.randint(low=97, high=122, size=43)))+rand_int\n",
    "    shuffle(lst)\n",
    "    return \"\".join(lst)"
   ]
  },
  {
   "cell_type": "code",
   "execution_count": 4,
   "id": "15ed28cf",
   "metadata": {
    "execution": {
     "iopub.execute_input": "2023-09-17T13:44:33.097641Z",
     "iopub.status.busy": "2023-09-17T13:44:33.097497Z",
     "iopub.status.idle": "2023-09-17T13:44:33.108783Z",
     "shell.execute_reply": "2023-09-17T13:44:33.108474Z",
     "shell.execute_reply.started": "2023-09-17T13:44:33.097628Z"
    },
    "tags": []
   },
   "outputs": [
    {
     "name": "stdout",
     "output_type": "stream",
     "text": [
      "bbrfrotlbofqm0bblaomkxepgee44nwih361wqqjjg6dpscxfh\n"
     ]
    }
   ],
   "source": [
    "print(random_name())"
   ]
  },
  {
   "cell_type": "code",
   "execution_count": 6,
   "id": "9526e06c-ce9a-450c-a73f-a3e7a4fb7676",
   "metadata": {
    "execution": {
     "iopub.execute_input": "2023-09-17T13:44:42.436928Z",
     "iopub.status.busy": "2023-09-17T13:44:42.436513Z",
     "iopub.status.idle": "2023-09-17T13:44:42.444036Z",
     "shell.execute_reply": "2023-09-17T13:44:42.443696Z",
     "shell.execute_reply.started": "2023-09-17T13:44:42.436912Z"
    },
    "tags": []
   },
   "outputs": [
    {
     "data": {
      "application/vnd.jupyter.widget-view+json": {
       "model_id": "8d941a64e852472d9a6d3a1cb329e41d",
       "version_major": 2,
       "version_minor": 0
      },
      "text/plain": [
       "0it [00:00, ?it/s]"
      ]
     },
     "metadata": {},
     "output_type": "display_data"
    }
   ],
   "source": [
    "path_dir_lst = os.listdir(\"pre_dataset/\")\n",
    "\n",
    "folder_lst = [\n",
    "    f'pre_dataset/{e}/'\n",
    "    for e in path_dir_lst\n",
    "]\n",
    "\n",
    "for i in tqdm(folder_lst):\n",
    "    file_lst = glob.glob(i+\"*.jpg\")\n",
    "    emotion = f\"{os.path.split(i[:-1])[-1]}\"\n",
    "    for j in tqdm(file_lst):      \n",
    "        name = random_name()\n",
    "        os.rename(j,f'{i}{emotion}{name}_{emotion}.jpg')"
   ]
  },
  {
   "cell_type": "code",
   "execution_count": 6,
   "id": "31c3b283-1945-4698-ab8c-ada001c88b95",
   "metadata": {},
   "outputs": [],
   "source": [
    "tgram.success()"
   ]
  }
 ],
 "metadata": {
  "kernelspec": {
   "display_name": "Python 3 (ipykernel)",
   "language": "python",
   "name": "python3"
  },
  "language_info": {
   "codemirror_mode": {
    "name": "ipython",
    "version": 3
   },
   "file_extension": ".py",
   "mimetype": "text/x-python",
   "name": "python",
   "nbconvert_exporter": "python",
   "pygments_lexer": "ipython3",
   "version": "3.9.17"
  }
 },
 "nbformat": 4,
 "nbformat_minor": 5
}
