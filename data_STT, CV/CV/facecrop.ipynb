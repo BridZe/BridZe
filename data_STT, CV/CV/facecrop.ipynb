{
 "cells": [
  {
   "cell_type": "code",
   "execution_count": 16,
   "id": "45344d9d",
   "metadata": {
    "execution": {
     "iopub.execute_input": "2023-09-17T13:45:07.036744Z",
     "iopub.status.busy": "2023-09-17T13:45:07.036538Z",
     "iopub.status.idle": "2023-09-17T13:45:07.039967Z",
     "shell.execute_reply": "2023-09-17T13:45:07.039571Z",
     "shell.execute_reply.started": "2023-09-17T13:45:07.036729Z"
    },
    "tags": []
   },
   "outputs": [],
   "source": [
    "import os\n",
    "import glob\n",
    "\n",
    "import cv2\n",
    "import cvlib as cv\n",
    "import numpy as np\n",
    "import pandas as pd\n",
    "from random import shuffle\n",
    "from keras.preprocessing.image import ImageDataGenerator\n",
    "\n",
    "from Tgram import Tgram\n",
    "CROP_SIZE = (96,96)\n"
   ]
  },
  {
   "cell_type": "code",
   "execution_count": 17,
   "id": "42464e55",
   "metadata": {
    "execution": {
     "iopub.execute_input": "2023-09-17T13:45:07.380256Z",
     "iopub.status.busy": "2023-09-17T13:45:07.380108Z",
     "iopub.status.idle": "2023-09-17T13:45:07.387023Z",
     "shell.execute_reply": "2023-09-17T13:45:07.386618Z",
     "shell.execute_reply.started": "2023-09-17T13:45:07.380241Z"
    },
    "tags": []
   },
   "outputs": [],
   "source": [
    "class Datapreprocess:\n",
    "    def __init__(self):\n",
    "        self.data_lst = []\n",
    "        self.img = None\n",
    "        self.X_position = (0, 0)\n",
    "        self.Y_position = (0, 0)\n",
    "        self.curr_emotion = ''\n",
    "        self.new_file_path = \"\"\n",
    "\n",
    "    def _save_crop_img(self):\n",
    "        try:\n",
    "            img = self.img.copy()\n",
    "            roi = img[\n",
    "                self.Y_position[0] : self.Y_position[1],\n",
    "                self.X_position[0] : self.X_position[1],\n",
    "            ]\n",
    "            img = cv2.resize(roi, CROP_SIZE, interpolation=cv2.INTER_CUBIC)\n",
    "            img = cv2.cvtColor(img, cv2.COLOR_BGR2GRAY)\n",
    "            self.img = img\n",
    "            return True\n",
    "        except:\n",
    "            return False\n",
    "\n",
    "    def _detect_face(self, img_path):\n",
    "        try:\n",
    "            self.img = cv2.imread(img_path)\n",
    "            faces, _ = cv.detect_face(self.img, enable_gpu=True)\n",
    "            self.X_position = faces[0][0], faces[0][2]\n",
    "            self.Y_position = faces[0][1], faces[0][3]\n",
    "            return True\n",
    "        except:\n",
    "            return False\n",
    "\n",
    "    def _random_name(self):\n",
    "        rand_int = list(map(str,np.random.randint(low=0, high=9, size=7)))\n",
    "        lst = list(map(chr, np.random.randint(low=97, high=122, size=45)))+rand_int\n",
    "        shuffle(lst)\n",
    "        return \"\".join(lst)\n",
    "\n",
    "\n",
    "    def work(self, img_path,emo):\n",
    "        self.curr_emotion = emo\n",
    "        if self._detect_face(img_path) and self._save_crop_img():\n",
    "            if self.img.shape == CROP_SIZE:\n",
    "                self.new_file_path = f\"./dataset/{self.curr_emotion}_{self._random_name()}.jpg\"\n",
    "                self.data_lst.append({\"path\": self.new_file_path, \"label\": self.curr_emotion})\n",
    "                cv2.imwrite(self.new_file_path, self.img)\n",
    "                return True\n",
    "            else:\n",
    "                return False"
   ]
  },
  {
   "cell_type": "code",
   "execution_count": 18,
   "id": "89239afb",
   "metadata": {
    "execution": {
     "iopub.execute_input": "2023-09-17T13:45:08.093431Z",
     "iopub.status.busy": "2023-09-17T13:45:08.093277Z",
     "iopub.status.idle": "2023-09-17T13:45:09.253985Z",
     "shell.execute_reply": "2023-09-17T13:45:09.253504Z",
     "shell.execute_reply.started": "2023-09-17T13:45:08.093410Z"
    },
    "tags": []
   },
   "outputs": [
    {
     "name": "stdout",
     "output_type": "stream",
     "text": [
      "[]\n",
      "[]\n"
     ]
    }
   ],
   "source": [
    "tgram = Tgram()\n",
    "datapreprocess = Datapreprocess()\n",
    "path_dir_lst = os.listdir(\"./pre_dataset/\")\n",
    "\n",
    "\n",
    "print(path_dir_lst)\n",
    "folder_lst = [\n",
    "    f'./pre_dataset/{e}/'\n",
    "    for e in path_dir_lst\n",
    "]\n",
    "print(folder_lst)\n",
    "for emo,folder in zip(path_dir_lst,folder_lst):\n",
    "    try:\n",
    "        img_list = glob.glob(os.path.join(folder)+\"*.jpg\")\n",
    "        img_list = list(map(lambda x : x.replace(\"\\\\\",'/'),img_list))\n",
    "        for img_path in img_list:\n",
    "            datapreprocess.work(img_path,emo)\n",
    "    except Exception as e:\n",
    "        tgram.fail(e)\n",
    "pd.DataFrame(datapreprocess.data_lst).to_csv(\"dataset.csv\", index=False)\n",
    "tgram.success()"
   ]
  },
  {
   "cell_type": "code",
   "execution_count": null,
   "id": "6e7dd452-cdc0-4451-ad1f-9a61074664c8",
   "metadata": {},
   "outputs": [],
   "source": []
  }
 ],
 "metadata": {
  "kernelspec": {
   "display_name": "Python [conda env:bridze] *",
   "language": "python",
   "name": "conda-env-bridze-py"
  },
  "language_info": {
   "codemirror_mode": {
    "name": "ipython",
    "version": 3
   },
   "file_extension": ".py",
   "mimetype": "text/x-python",
   "name": "python",
   "nbconvert_exporter": "python",
   "pygments_lexer": "ipython3",
   "version": "3.9.17"
  }
 },
 "nbformat": 4,
 "nbformat_minor": 5
}
