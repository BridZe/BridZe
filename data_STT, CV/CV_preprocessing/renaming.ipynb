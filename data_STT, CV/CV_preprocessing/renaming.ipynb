{
 "cells": [
  {
   "cell_type": "code",
   "execution_count": 1,
   "id": "5bd96a65",
   "metadata": {},
   "outputs": [],
   "source": [
    "import os\n",
    "import glob\n",
    "import numpy as np\n",
    "from random import shuffle\n",
    "import telegram\n",
    "from tqdm.notebook import tqdm"
   ]
  },
  {
   "cell_type": "code",
   "execution_count": 14,
   "id": "1e847aaf",
   "metadata": {},
   "outputs": [],
   "source": [
    "def random_name():\n",
    "    \"\"\"\n",
    "    Generate a random alphanumeric string as a name.\n",
    "\n",
    "    This function generates a random name consisting of lowercase letters and numbers.\n",
    "\n",
    "    Returns:\n",
    "        str: A randomly generated name.\n",
    "\n",
    "    \"\"\"\n",
    "    rand_int = list(map(str, np.random.randint(low=0, high=9, size=7)))\n",
    "    lst = list(map(chr, np.random.randint(low=97, high=122, size=35))) + rand_int\n",
    "    shuffle(lst)\n",
    "    return \"\".join(lst)"
   ]
  },
  {
   "cell_type": "code",
   "execution_count": 15,
   "id": "15ed28cf",
   "metadata": {},
   "outputs": [
    {
     "name": "stdout",
     "output_type": "stream",
     "text": [
      "xrqwow2g62lgcsuxw2ixpc4sbd8hdviuhsvekrah6m\n"
     ]
    }
   ],
   "source": [
    "print(random_name())"
   ]
  },
  {
   "cell_type": "code",
   "execution_count": 8,
   "id": "9526e06c-ce9a-450c-a73f-a3e7a4fb7676",
   "metadata": {},
   "outputs": [],
   "source": [
    "# Get the list of subdirectories in the \"pre_dataset\" directory\n",
    "path_dir_lst = os.listdir(\"pre_dataset/\")\n",
    "\n",
    "# Create a list of folder paths for each emotion category\n",
    "folder_lst = [\n",
    "    f'pre_dataset/{e}/'\n",
    "    for e in path_dir_lst\n",
    "]\n",
    "\n",
    "# Rename image files in each folder\n",
    "for i in folder_lst:\n",
    "    # Get a list of image file paths in the current folder\n",
    "    file_lst = glob.glob(i + \"*.jpg\")\n",
    "    # Extract the emotion label from the folder path\n",
    "    emotion = f\"{os.path.split(i[:-1])[-1]}\"\n",
    "    \n",
    "    # Rename each image file with a random name and emotion label\n",
    "    for j in file_lst:\n",
    "        name = random_name()\n",
    "        os.rename(j, f'{i}{emotion}{name}_{emotion}.jpg')\n",
    "        \n",
    "# Repeat the process for JPEG image files\n",
    "for i in folder_lst:\n",
    "    # Get a list of image file paths in the current folder\n",
    "    file_lst = glob.glob(i + \"*.jpeg\")\n",
    "    # Extract the emotion label from the folder path\n",
    "    emotion = f\"{i.split('/')[-1]}\"\n",
    "    \n",
    "    # Rename each image file with a random name and emotion label\n",
    "    for j in file_lst:\n",
    "        name = random_name()\n",
    "        os.rename(j, f'{i}{emotion}{name}_{emotion}.jpg')\n"
   ]
  },
  {
   "cell_type": "code",
   "execution_count": 9,
   "id": "31c3b283-1945-4698-ab8c-ada001c88b95",
   "metadata": {},
   "outputs": [
    {
     "data": {
      "text/plain": [
       "Message(channel_chat_created=False, chat=Chat(first_name='SungWook', id=5862996909, last_name='Jung', type=<ChatType.PRIVATE>), date=datetime.datetime(2023, 8, 17, 15, 56, 6, tzinfo=<UTC>), delete_chat_photo=False, from_user=User(first_name='jupyterbot', id=6441009419, is_bot=True, username='oceanstarbot'), group_chat_created=False, message_id=32, supergroup_chat_created=False, text='주피터 완료')"
      ]
     },
     "execution_count": 9,
     "metadata": {},
     "output_type": "execute_result"
    }
   ],
   "source": [
    "import asyncio\n",
    "import telegram\n",
    "import nest_asyncio \n",
    "\n",
    "# Apply nest_asyncio to handle nested asyncio event loops\n",
    "nest_asyncio.apply()\n",
    "\n",
    "# Initialize a Telegram bot instance\n",
    "bot = telegram.Bot(token=\"6441009419:AAGeU_ZUW6pxvqAOwIcIA8-PH8RLRPgb9rQ\")\n",
    "chat_id = \"5862996909\"\n",
    "# Use asyncio.run() to send a message asynchronously\n",
    "asyncio.run(bot.send_message(chat_id=chat_id, text=\"주피터 완료\"))\n"
   ]
  }
 ],
 "metadata": {
  "kernelspec": {
   "display_name": "Python 3 (ipykernel)",
   "language": "python",
   "name": "python3"
  },
  "language_info": {
   "codemirror_mode": {
    "name": "ipython",
    "version": 3
   },
   "file_extension": ".py",
   "mimetype": "text/x-python",
   "name": "python",
   "nbconvert_exporter": "python",
   "pygments_lexer": "ipython3",
   "version": "3.9.17"
  }
 },
 "nbformat": 4,
 "nbformat_minor": 5
}
